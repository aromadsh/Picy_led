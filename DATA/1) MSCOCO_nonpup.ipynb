{
 "cells": [
  {
   "cell_type": "markdown",
   "metadata": {},
   "source": [
    "# MSCOCO 한국어 데이터"
   ]
  },
  {
   "cell_type": "code",
   "execution_count": null,
   "metadata": {
    "scrolled": true
   },
   "outputs": [],
   "source": [
    "from konlpy.tag import Mecab\n",
    "from collections import defaultdict\n",
    "from sklearn.feature_extraction.text import CountVectorizer,TfidfTransformer,TfidfVectorizer\n",
    "import random\n",
    "import pandas as pd\n",
    "import os, glob\n",
    "import os.path\n",
    "import import_ipynb \n",
    "import love_poem_crawler, oldpoem_crawling, poemcorpus\n",
    "import re"
   ]
  },
  {
   "cell_type": "code",
   "execution_count": null,
   "metadata": {},
   "outputs": [],
   "source": [
    "df = pd.read_json('MSCOCO_train_val_Korean.json')\n",
    "df[:5]"
   ]
  },
  {
   "cell_type": "code",
   "execution_count": null,
   "metadata": {},
   "outputs": [],
   "source": [
    "mscoco =  df['caption_ko']\n",
    "mscoco[:5]"
   ]
  },
  {
   "cell_type": "code",
   "execution_count": null,
   "metadata": {},
   "outputs": [],
   "source": [
    "import random"
   ]
  },
  {
   "cell_type": "code",
   "execution_count": null,
   "metadata": {},
   "outputs": [],
   "source": [
    "random.randint(0,1)"
   ]
  },
  {
   "cell_type": "code",
   "execution_count": null,
   "metadata": {},
   "outputs": [],
   "source": [
    "mecab = Mecab()\n",
    "preprocessed_docs = []\n",
    "example_mscoco = []\n",
    "for i in mscoco:\n",
    "    token_list = []\n",
    "    for token in mecab.pos(i[random.randint(0,len(i)-1)]):\n",
    "        if token[1] in ['NNG','VA+ETM']:\n",
    "            token_list.append(token[0])\n",
    "    preprocessed_docs.append(\" \".join(token_list))\n",
    "    example_mscoco.append(token_list)\n",
    "display(preprocessed_docs[:10],len(preprocessed_docs),example_mscoco[:5])\n"
   ]
  },
  {
   "cell_type": "code",
   "execution_count": null,
   "metadata": {},
   "outputs": [],
   "source": [
    "vectorizer = TfidfVectorizer()\n",
    "sp_matrix = vectorizer.fit_transform(preprocessed_docs)\n",
    "word2id = defaultdict(lambda : 0)\n",
    "for idx, feature in enumerate(vectorizer.get_feature_names()):\n",
    "    word2id[feature] = idx\n",
    "keywords_mscoco = []\n",
    "for i, sent in enumerate(preprocessed_docs):\n",
    "    print('====== document[%d] ======' % i)\n",
    "    temp = []\n",
    "    for token in sent.split():\n",
    "        matrix = sp_matrix[i, word2id[token]]\n",
    "        print(token,matrix)\n",
    "        if 0.3 <= matrix < 1.0:\n",
    "            temp.append(token)\n",
    "    if len(temp)==0:\n",
    "        keywords_mscoco.append('none')\n",
    "    else:\n",
    "        keywords_mscoco.append(\",\".join(temp))\n",
    "display(keywords_mscoco[:5],len(keywords_mscoco))"
   ]
  },
  {
   "cell_type": "code",
   "execution_count": null,
   "metadata": {},
   "outputs": [],
   "source": [
    "df['keywords'] = keywords_mscoco"
   ]
  },
  {
   "cell_type": "code",
   "execution_count": null,
   "metadata": {},
   "outputs": [],
   "source": [
    "df.to_csv('mscoco_modified.csv', encoding='utf-8')"
   ]
  },
  {
   "cell_type": "code",
   "execution_count": null,
   "metadata": {},
   "outputs": [],
   "source": [
    "import pandas as pd\n",
    "from tqdm import tqdm"
   ]
  },
  {
   "cell_type": "code",
   "execution_count": null,
   "metadata": {},
   "outputs": [],
   "source": [
    "data = pd.read_csv('mscoco_modified.csv')\n",
    "ko_np = pd.read_csv('korean_nonpup_lines.csv')\n",
    "del ko_np['Unnamed: 0']\n",
    "del data['Unnamed: 0']"
   ]
  },
  {
   "cell_type": "code",
   "execution_count": null,
   "metadata": {},
   "outputs": [],
   "source": [
    "data[:1]"
   ]
  },
  {
   "cell_type": "code",
   "execution_count": null,
   "metadata": {
    "scrolled": true
   },
   "outputs": [],
   "source": [
    "ko_np[:1]"
   ]
  },
  {
   "cell_type": "code",
   "execution_count": null,
   "metadata": {},
   "outputs": [],
   "source": [
    "keywords = list(data['keywords'])"
   ]
  },
  {
   "cell_type": "code",
   "execution_count": null,
   "metadata": {},
   "outputs": [],
   "source": [
    "ko_nonpup = []\n",
    "\n",
    "for words in tqdm(keywords):\n",
    "    count = 0\n",
    "    \n",
    "    for word in words.split(','):\n",
    "        for sent in ko_np['0']:\n",
    "            if word in sent and sent not in ko_nonpup:\n",
    "                ko_nonpup.append(sent)\n",
    "                count+=1\n",
    "                break\n",
    "        if count == 1:\n",
    "            break\n",
    "    if count == 0:\n",
    "        ko_nonpup.append('none')"
   ]
  },
  {
   "cell_type": "code",
   "execution_count": null,
   "metadata": {},
   "outputs": [],
   "source": [
    "print('data: {}, ko_nonpup: {}'.format(len(data), len(ko_nonpup)))"
   ]
  },
  {
   "cell_type": "code",
   "execution_count": null,
   "metadata": {},
   "outputs": [],
   "source": [
    "ko_nonpup.count('none')"
   ]
  },
  {
   "cell_type": "code",
   "execution_count": null,
   "metadata": {},
   "outputs": [],
   "source": [
    "data['ko_nonpup'] = ko_nonpup\n",
    "data.to_csv('mscoco_ko_nonpup.csv', encoding='utf-8')"
   ]
  },
  {
   "cell_type": "code",
   "execution_count": null,
   "metadata": {},
   "outputs": [],
   "source": [
    "data[:5]"
   ]
  },
  {
   "cell_type": "code",
   "execution_count": null,
   "metadata": {},
   "outputs": [],
   "source": [
    "import random \n",
    "combined = []\n",
    "for cap, ko_non in tqdm(zip(data['caption_ko'], data['ko_nonpup'])):\n",
    "    if ko_non == 'none':\n",
    "        combined.append(re.sub('\\[|\\]|\\'|\\\"',\"\",cap).split(', ')[random.randint(0,len(re.sub('\\[|\\]|\\'|\\\"',\"\",cap).split(', '))-1)])\n",
    "    else:\n",
    "        combined.append(ko_non)"
   ]
  },
  {
   "cell_type": "code",
   "execution_count": null,
   "metadata": {},
   "outputs": [],
   "source": [
    "data['combined'] = combined"
   ]
  },
  {
   "cell_type": "code",
   "execution_count": null,
   "metadata": {},
   "outputs": [],
   "source": [
    "data.to_csv('mscoco_kononpup_combined.csv', encoding='utf-8')"
   ]
  },
  {
   "cell_type": "code",
   "execution_count": null,
   "metadata": {},
   "outputs": [],
   "source": []
  }
 ],
 "metadata": {
  "interpreter": {
   "hash": "caf1c2fcf97217de91eafa76b907d50f9ea378f5ffbee7f571142d119bb6a771"
  },
  "kernelspec": {
   "display_name": "Python 3",
   "language": "python",
   "name": "python3"
  },
  "language_info": {
   "codemirror_mode": {
    "name": "ipython",
    "version": 3
   },
   "file_extension": ".py",
   "mimetype": "text/x-python",
   "name": "python",
   "nbconvert_exporter": "python",
   "pygments_lexer": "ipython3",
   "version": "3.8.8"
  }
 },
 "nbformat": 4,
 "nbformat_minor": 2
}
